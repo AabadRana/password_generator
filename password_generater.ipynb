{
 "cells": [
  {
   "cell_type": "code",
   "execution_count": 1,
   "id": "ae993ab9-ac99-4366-9704-f0379109ae2c",
   "metadata": {},
   "outputs": [
    {
     "name": "stdin",
     "output_type": "stream",
     "text": [
      "Enter the length of required password:  8\n",
      "Enter the number of required password:  2\n"
     ]
    },
    {
     "name": "stdout",
     "output_type": "stream",
     "text": [
      "The generated password is  YQ1IFa5P\n",
      "The generated password is  h1I!@kAR\n"
     ]
    },
    {
     "name": "stdin",
     "output_type": "stream",
     "text": [
      "Do you want to generate more password? yes\n",
      "Enter the length of required password:  6\n",
      "Enter the number of required password:  1\n"
     ]
    },
    {
     "name": "stdout",
     "output_type": "stream",
     "text": [
      "The generated password is  t2okzC\n"
     ]
    },
    {
     "name": "stdin",
     "output_type": "stream",
     "text": [
      "Do you want to generate more password? no\n"
     ]
    },
    {
     "name": "stdout",
     "output_type": "stream",
     "text": [
      "Thank you \n"
     ]
    }
   ],
   "source": [
    "import random\n",
    "\n",
    "character=\"abcdefghijklmnopqrstuvwxyzABCDEFGHIJKLMNOPQRSTUVWXYZ0123456789!@#$%^&*_\"\n",
    "while True:\n",
    "    pass_length=int(input(\"Enter the length of required password: \"))\n",
    "    pass_count=int(input(\"Enter the number of required password: \"))\n",
    "\n",
    "    for i in range (0,pass_count):\n",
    "        password=\"\"\n",
    "        for j in range (0,pass_length):\n",
    "            pass_char=random.choice(character)\n",
    "            password=password+pass_char\n",
    "\n",
    "        print(\"The generated password is \",password)\n",
    "    repeat=input(\"Do you want to generate more password?\")\n",
    "    if repeat==\"no\" or repeat==\"No\":\n",
    "        break\n",
    "\n",
    "print(\"Thank you \")\n",
    "\n",
    "\n"
   ]
  },
  {
   "cell_type": "code",
   "execution_count": null,
   "id": "f50328ff-f0cf-4cc2-b03b-e3d84e92335c",
   "metadata": {},
   "outputs": [],
   "source": []
  }
 ],
 "metadata": {
  "kernelspec": {
   "display_name": "Python 3 (ipykernel)",
   "language": "python",
   "name": "python3"
  },
  "language_info": {
   "codemirror_mode": {
    "name": "ipython",
    "version": 3
   },
   "file_extension": ".py",
   "mimetype": "text/x-python",
   "name": "python",
   "nbconvert_exporter": "python",
   "pygments_lexer": "ipython3",
   "version": "3.11.1"
  }
 },
 "nbformat": 4,
 "nbformat_minor": 5
}
